{
  "nbformat": 4,
  "nbformat_minor": 0,
  "metadata": {
    "colab": {
      "provenance": [],
      "authorship_tag": "ABX9TyMbtt+oy2tvaBvfwk50yww1",
      "include_colab_link": true
    },
    "kernelspec": {
      "name": "python3",
      "display_name": "Python 3"
    },
    "language_info": {
      "name": "python"
    }
  },
  "cells": [
    {
      "cell_type": "markdown",
      "metadata": {
        "id": "view-in-github",
        "colab_type": "text"
      },
      "source": [
        "<a href=\"https://colab.research.google.com/github/fernandonavas75/Regresion_Multilineal_y_Polinomial/blob/main/Regresion_Multilineal_y_Polinomial.ipynb\" target=\"_parent\"><img src=\"https://colab.research.google.com/assets/colab-badge.svg\" alt=\"Open In Colab\"/></a>"
      ]
    },
    {
      "cell_type": "markdown",
      "source": [
        "**Regresion Multilineal y Polinomial**"
      ],
      "metadata": {
        "id": "6zOUeb1787Jm"
      }
    },
    {
      "cell_type": "markdown",
      "source": [
        "En el archivo adjunto usted tiene un dataset con variables \"x1\", \"x2\" y la varaible \"y\" a predecir. Su tarea consiste en generar un modelo con el menor error posible para predecir futuros valores de \"y\", dado algún valor cualquiera de \"x1\" y \"x2\".\n",
        "\n",
        " Cree una jupyter notebook, coloque su nombre y fecha al inicio de la notebook, y complete las siguientes tareas:\n",
        "\n",
        "1. Cargue el dataset en un dataframe de pandas.\n",
        "2. Divida el dataset en datos de entrenamiento (x_train) y datos de evaluación (x_test).\n",
        "3. Genere y entrene un modelo de regresión lineal múltiple con los datos de entrenamiento.\n",
        "4. Usando el modelo entrenado, calcule los valores predichos (y_test_aprox) para los datos de evaluación (x_test).\n",
        "5. Con los valores reales (y_test) y valores predichos (y_test_aprox ) calcule el valor de MSE y R^2 para este modelo.\n",
        "6. Genere y entrene un modelo de regresión polinómica de grado 2. Para esto deberá realizar una transformación polinómica de grado 2 de todos los datos de entrenamiento y evaluación (x_train y x_test).\n",
        "7. Calcule el valor de MSE y R^2 para este modelo.\n",
        "8. Genere y entrene un modelo de regresión polinómica de grado 3. Para esto deberá realizar una transformación polinómica de grado 3 de todos los datos de entrenamiento y evaluación (x_train y x_test).\n",
        "9. Calcule el valor de MSE y R^2 para este modelo.\n",
        "10. En base a sus resultados de evaluación, indique cuál de los tres modelos es mejor y por qué.\n",
        "11. Usted cree que se podría estar generando overfitting o underfitting con su modelo, explique su respuesta.\n",
        "12. Con el mejor modelo que obtenga. Prediga cuáles son los valores de y, para los siguientes valores de X1: 1, 10, 100, 1000 y X2: 5, 50, 500, 5000 respectivamente.\n",
        "13. Guarde su notebook y súbala el EVA como archivo jupyter notebook sin comprimir.\n"
      ],
      "metadata": {
        "id": "66LCXpNZ8ma8"
      }
    },
    {
      "cell_type": "markdown",
      "source": [
        "Rubrica\n",
        "\n",
        "1. La notebook no debe presentar errores.\n",
        "2. Cada tarea debe estar indicada claramente dentro de la notebook.\n",
        "3. Su código debe estar bien explicado o comentado.\n",
        "4. Las tareas retrasadas tienen un 20% de penalización por día o fracción."
      ],
      "metadata": {
        "id": "-cppkWt79Uzy"
      }
    },
    {
      "cell_type": "code",
      "execution_count": null,
      "metadata": {
        "id": "Jq1g_Ibq78Z4"
      },
      "outputs": [],
      "source": [
        "# librerias\n",
        "import pandas as ps\n",
        "\n",
        "\n"
      ]
    },
    {
      "cell_type": "code",
      "source": [
        "#lectura de archivo\n",
        "df=ps.read_csv('/content/regresion_polinomial_grado3.csv')\n",
        "#df.head()"
      ],
      "metadata": {
        "id": "yOcwOpXM-ANk"
      },
      "execution_count": null,
      "outputs": []
    },
    {
      "cell_type": "code",
      "source": [
        "# prompt: Cargue el dataset en un dataframe de pandas.\n",
        "# Divida el dataset en datos de entrenamiento (x_train) y datos de evaluación (x_test).\n",
        "# Genere y entrene un modelo de regresión lineal múltiple con los datos de entrenamiento.\n",
        "# Usando el modelo entrenado, calcule los valores predichos (y_test_aprox) para los datos de evaluación (x_test).\n",
        "# Con los valores reales (y_test) y valores predichos (y_test_aprox ) calcule el valor de MSE y R^2 para este modelo.\n",
        "# Genere y entrene un modelo de regresión polinómica de grado 2. Para esto deberá realizar una transformación polinómica de grado 2 de todos los datos de entrenamiento y evaluación (x_train y x_test).\n",
        "# Calcule el valor de MSE y R^2 para este modelo.\n",
        "# Genere y entrene un modelo de regresión polinómica de grado 3. Para esto deberá realizar una transformación polinómica de grado 3 de todos los datos de entrenamiento y evaluación (x_train y x_test).\n",
        "# Calcule el valor de MSE y R^2 para este modelo.\n",
        "# En base a sus resultados de evaluación, indique cuál de los\n",
        "\n",
        "import pandas as pd\n",
        "from sklearn.model_selection import train_test_split\n",
        "from sklearn.linear_model import LinearRegression\n",
        "from sklearn.preprocessing import PolynomialFeatures\n",
        "from sklearn.metrics import mean_squared_error, r2_score\n",
        "import numpy as np\n",
        "\n",
        "# Dividir el dataset en datos de entrenamiento y evaluación\n",
        "x = df[['x1', 'x2']]\n",
        "y = df['y']\n",
        "x_train, x_test, y_train, y_test = train_test_split(x, y, test_size=0.2, random_state=42)\n",
        "\n",
        "# Regresión Lineal Múltiple\n",
        "lr_model = LinearRegression()\n",
        "lr_model.fit(x_train, y_train)\n",
        "y_test_aprox_lr = lr_model.predict(x_test)\n",
        "mse_lr = mean_squared_error(y_test, y_test_aprox_lr)\n",
        "r2_lr = r2_score(y_test, y_test_aprox_lr)\n",
        "print(f\"Regresión Lineal Múltiple: MSE = {mse_lr}, R^2 = {r2_lr}\")\n",
        "\n",
        "\n",
        "# Regresión Polinómica de grado 2\n",
        "poly2 = PolynomialFeatures(degree=2)\n",
        "x_train_poly2 = poly2.fit_transform(x_train)\n",
        "x_test_poly2 = poly2.transform(x_test)\n",
        "poly2_model = LinearRegression()\n",
        "poly2_model.fit(x_train_poly2, y_train)\n",
        "y_test_aprox_poly2 = poly2_model.predict(x_test_poly2)\n",
        "mse_poly2 = mean_squared_error(y_test, y_test_aprox_poly2)\n",
        "r2_poly2 = r2_score(y_test, y_test_aprox_poly2)\n",
        "print(f\"Regresión Polinómica Grado 2: MSE = {mse_poly2}, R^2 = {r2_poly2}\")\n",
        "\n",
        "# Regresión Polinómica de grado 3\n",
        "poly3 = PolynomialFeatures(degree=3)\n",
        "x_train_poly3 = poly3.fit_transform(x_train)\n",
        "x_test_poly3 = poly3.transform(x_test)\n",
        "poly3_model = LinearRegression()\n",
        "poly3_model.fit(x_train_poly3, y_train)\n",
        "y_test_aprox_poly3 = poly3_model.predict(x_test_poly3)\n",
        "mse_poly3 = mean_squared_error(y_test, y_test_aprox_poly3)\n",
        "r2_poly3 = r2_score(y_test, y_test_aprox_poly3)\n",
        "print(f\"Regresión Polinómica Grado 3: MSE = {mse_poly3}, R^2 = {r2_poly3}\")\n",
        "\n",
        "# Comparación de modelos y predicciones (Ejemplo, complete con sus datos)\n",
        "# ...\n",
        "\n",
        "#Predicciones para los nuevos valores\n",
        "x_new = pd.DataFrame({'x1': [1, 10, 100, 1000], 'x2': [5, 50, 500, 5000]})\n",
        "x_new_poly2 = poly2.transform(x_new)  #Usar el mejor modelo obtenido\n",
        "y_pred = poly2_model.predict(x_new_poly2) #Usar el mejor modelo obtenido\n",
        "print(\"\\nPredicciones para nuevos valores:\")\n",
        "y_pred"
      ],
      "metadata": {
        "colab": {
          "base_uri": "https://localhost:8080/"
        },
        "id": "mFti23Y9-kp7",
        "outputId": "48d35e9f-8bcc-4001-f102-7923290db87c"
      },
      "execution_count": 6,
      "outputs": [
        {
          "output_type": "stream",
          "name": "stdout",
          "text": [
            "Regresión Lineal Múltiple: MSE = 179425.453742582, R^2 = 0.8672906031295915\n",
            "Regresión Polinómica Grado 2: MSE = 178865.6005507517, R^2 = 0.8677046903054856\n",
            "Regresión Polinómica Grado 3: MSE = 7934.839951044177, R^2 = 0.9941311123800916\n",
            "\n",
            "Predicciones para nuevos valores:\n"
          ]
        },
        {
          "output_type": "execute_result",
          "data": {
            "text/plain": [
              "array([ 2.19255708e+02,  1.82883719e+03, -4.45284736e+04, -6.75341415e+06])"
            ]
          },
          "metadata": {},
          "execution_count": 6
        }
      ]
    }
  ]
}